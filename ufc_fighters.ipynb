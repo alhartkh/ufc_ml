{
 "cells": [
  {
   "cell_type": "markdown",
   "metadata": {},
   "source": [
    "# Step 1: Importing Libraries"
   ]
  },
  {
   "cell_type": "code",
   "execution_count": 1,
   "metadata": {},
   "outputs": [],
   "source": [
    "# Scrapping\n",
    "from bs4 import BeautifulSoup\n",
    "import requests\n",
    "\n",
    "# Data Manipulation\n",
    "import numpy as np\n",
    "import pandas as pd\n",
    "\n",
    "# Other\n",
    "import string\n",
    "import time"
   ]
  },
  {
   "cell_type": "markdown",
   "metadata": {},
   "source": [
    "# Step 2: Scrapping Data"
   ]
  },
  {
   "cell_type": "code",
   "execution_count": 2,
   "metadata": {},
   "outputs": [],
   "source": [
    "alphabet = string.ascii_lowercase\n",
    "\n",
    "fighter_details = {}\n",
    "\n",
    "for letter in alphabet:\n",
    "\n",
    "    response = requests.get(f\"http://www.ufcstats.com/statistics/fighters?char={letter}&page=all\")\n",
    "    \n",
    "    soup = BeautifulSoup(response.text, \"lxml\")\n",
    "    \n",
    "    fighter_details[letter] = soup.find_all(\"td\",{'class':'b-statistics__table-col'})"
   ]
  },
  {
   "cell_type": "markdown",
   "metadata": {},
   "source": [
    "### link : http://ufcstats.com/statistics/fighters"
   ]
  },
  {
   "cell_type": "markdown",
   "metadata": {},
   "source": [
    "### Data Dictionary \n",
    "| Column | Description |\n",
    "| --- | --- |\n",
    "| First name | First name of the fighter |\n",
    "| Last name | Last name of the fighter |\n",
    "| Nick name | Nick name of the fighter |\n",
    "| Height | Height of the fighter (ft'inch\") |\n",
    "| Weight | Weight of the fighter (lbs) |\n",
    "| Reach | Total length of a fighter's arms from one fingertip to the other (inch\") |\n",
    "| Stance | Position of a fighter feet and body |\n",
    "| Wins | # Fights won by a fighter in thier MMA career (Not only UFC) |\n",
    "| Losses | # Fights lost by a fighter in thier MMA career (Not only UFC) |\n",
    "| Draw | # Fights the fighter niether win or lose in thier MMA career (Not only UFC) |"
   ]
  },
  {
   "cell_type": "code",
   "execution_count": 4,
   "metadata": {},
   "outputs": [],
   "source": [
    "fighter_first_names = []\n",
    "\n",
    "for key, value in fighter_details.items():\n",
    "    for fighter in np.arange(0, len(fighter_details[key]), 11):\n",
    "        fighter_first_name = value[fighter].text.split(\"\\n\")[1]\n",
    "        fighter_first_names.append(fighter_first_name)"
   ]
  },
  {
   "cell_type": "code",
   "execution_count": 5,
   "metadata": {},
   "outputs": [],
   "source": [
    "fighter_last_names = []\n",
    "\n",
    "for key, value in fighter_details.items():\n",
    "    for fighter in np.arange(1, len(fighter_details[key]) + 1, 11):\n",
    "        fighter_last_name = value[fighter].text.split(\"\\n\")[1]\n",
    "        fighter_last_names.append(fighter_last_name)"
   ]
  },
  {
   "cell_type": "code",
   "execution_count": 6,
   "metadata": {},
   "outputs": [],
   "source": [
    "fighter_nick_names = []\n",
    "\n",
    "for key, value in fighter_details.items():\n",
    "    for fighter in np.arange(2, len(fighter_details[key]) + 2, 11):\n",
    "        fighter_nick_name = value[fighter].text.split(\"\\n\")[1]\n",
    "        fighter_nick_names.append(fighter_nick_name)"
   ]
  },
  {
   "cell_type": "code",
   "execution_count": 8,
   "metadata": {},
   "outputs": [],
   "source": [
    "fighter_heights = []\n",
    "\n",
    "for key, value in fighter_details.items():\n",
    "    for fighter in np.arange(3, len(fighter_details[key]) + 3, 11):\n",
    "        fighter_height = value[fighter].text.split(\"\\n\")[1][10:]\n",
    "        fighter_heights.append(fighter_height)"
   ]
  },
  {
   "cell_type": "code",
   "execution_count": 9,
   "metadata": {},
   "outputs": [],
   "source": [
    "fighter_weights = []\n",
    "\n",
    "for key, value in fighter_details.items():\n",
    "    for fighter in np.arange(4, len(fighter_details[key]) + 4, 11):\n",
    "        fighter_weight = value[fighter].text.split(\"\\n\")[1][10:13]\n",
    "        fighter_weights.append(fighter_weight)"
   ]
  },
  {
   "cell_type": "code",
   "execution_count": 10,
   "metadata": {},
   "outputs": [],
   "source": [
    "fighter_reaches = []\n",
    "\n",
    "for key, value in fighter_details.items():\n",
    "    for fighter in np.arange(5, len(fighter_details[key]) + 5, 11):\n",
    "        fighter_reach = value[fighter].text.split(\"\\n\")[1][10:14]\n",
    "        fighter_reaches.append(fighter_reach)"
   ]
  },
  {
   "cell_type": "code",
   "execution_count": 11,
   "metadata": {},
   "outputs": [],
   "source": [
    "fighter_stances = []\n",
    "\n",
    "for key, value in fighter_details.items():\n",
    "    for fighter in np.arange(6, len(fighter_details[key]) + 6, 11):\n",
    "        fighter_stance = value[fighter].text.split(\"\\n\")[1][10:]\n",
    "        fighter_stances.append(fighter_stance)"
   ]
  },
  {
   "cell_type": "code",
   "execution_count": 12,
   "metadata": {},
   "outputs": [],
   "source": [
    "fighter_wins = []\n",
    "\n",
    "for key, value in fighter_details.items():\n",
    "    for fighter in np.arange(7, len(fighter_details[key]) + 7, 11):\n",
    "        fighter_win = value[fighter].text.split(\"\\n\")[1][10:]\n",
    "        fighter_wins.append(fighter_win)"
   ]
  },
  {
   "cell_type": "code",
   "execution_count": 13,
   "metadata": {},
   "outputs": [],
   "source": [
    "fighter_losses = []\n",
    "\n",
    "for key, value in fighter_details.items():\n",
    "    for fighter in np.arange(8, len(fighter_details[key]) + 8, 11):\n",
    "        fighter_loss = value[fighter].text.split(\"\\n\")[1][10:]\n",
    "        fighter_losses.append(fighter_loss)"
   ]
  },
  {
   "cell_type": "code",
   "execution_count": 14,
   "metadata": {},
   "outputs": [],
   "source": [
    "fighter_draws = []\n",
    "\n",
    "for key, value in fighter_details.items():\n",
    "    for fighter in np.arange(9, len(fighter_details[key]) + 9, 11):\n",
    "        fighter_draw = value[fighter].text.split(\"\\n\")[1][10:]\n",
    "        fighter_draws.append(fighter_draw)"
   ]
  },
  {
   "cell_type": "code",
   "execution_count": 21,
   "metadata": {},
   "outputs": [],
   "source": [
    "fighter_df = pd.DataFrame(fighter_last_names)\n",
    "fighter_df.rename(columns={0:\"last_name\"}, inplace = True)\n",
    "\n",
    "fighter_df[\"first_name\"] = fighter_first_names\n",
    "fighter_df[\"nick_name\"] = fighter_nick_names\n",
    "fighter_df[\"height\"] = fighter_heights\n",
    "fighter_df[\"weight\"] = fighter_weights\n",
    "fighter_df[\"reach\"] = fighter_reaches\n",
    "fighter_df[\"stance\"] = fighter_stances\n",
    "fighter_df[\"wins\"] = fighter_wins\n",
    "fighter_df[\"losses\"] = fighter_losses\n",
    "fighter_df[\"draws\"] = fighter_draws"
   ]
  },
  {
   "cell_type": "code",
   "execution_count": 22,
   "metadata": {},
   "outputs": [
    {
     "data": {
      "text/html": [
       "<div>\n",
       "<style scoped>\n",
       "    .dataframe tbody tr th:only-of-type {\n",
       "        vertical-align: middle;\n",
       "    }\n",
       "\n",
       "    .dataframe tbody tr th {\n",
       "        vertical-align: top;\n",
       "    }\n",
       "\n",
       "    .dataframe thead th {\n",
       "        text-align: right;\n",
       "    }\n",
       "</style>\n",
       "<table border=\"1\" class=\"dataframe\">\n",
       "  <thead>\n",
       "    <tr style=\"text-align: right;\">\n",
       "      <th></th>\n",
       "      <th>last_name</th>\n",
       "      <th>first_name</th>\n",
       "      <th>nick_name</th>\n",
       "      <th>height</th>\n",
       "      <th>weight</th>\n",
       "      <th>reach</th>\n",
       "      <th>stance</th>\n",
       "      <th>wins</th>\n",
       "      <th>losses</th>\n",
       "      <th>draws</th>\n",
       "    </tr>\n",
       "  </thead>\n",
       "  <tbody>\n",
       "    <tr>\n",
       "      <th>0</th>\n",
       "      <td>Aaron</td>\n",
       "      <td>Tom</td>\n",
       "      <td></td>\n",
       "      <td>--</td>\n",
       "      <td>155</td>\n",
       "      <td>--</td>\n",
       "      <td></td>\n",
       "      <td>5</td>\n",
       "      <td>3</td>\n",
       "      <td>0</td>\n",
       "    </tr>\n",
       "    <tr>\n",
       "      <th>1</th>\n",
       "      <td>Abbadi</td>\n",
       "      <td>Danny</td>\n",
       "      <td>The Assassin</td>\n",
       "      <td>5' 11\"</td>\n",
       "      <td>155</td>\n",
       "      <td>--</td>\n",
       "      <td>Orthodox</td>\n",
       "      <td>4</td>\n",
       "      <td>6</td>\n",
       "      <td>0</td>\n",
       "    </tr>\n",
       "    <tr>\n",
       "      <th>2</th>\n",
       "      <td>Abbott</td>\n",
       "      <td>David</td>\n",
       "      <td>Tank</td>\n",
       "      <td>6' 0\"</td>\n",
       "      <td>265</td>\n",
       "      <td>--</td>\n",
       "      <td>Switch</td>\n",
       "      <td>10</td>\n",
       "      <td>15</td>\n",
       "      <td>0</td>\n",
       "    </tr>\n",
       "    <tr>\n",
       "      <th>3</th>\n",
       "      <td>Abdurakhimov</td>\n",
       "      <td>Shamil</td>\n",
       "      <td>Abrek</td>\n",
       "      <td>6' 3\"</td>\n",
       "      <td>235</td>\n",
       "      <td>76.0</td>\n",
       "      <td>Orthodox</td>\n",
       "      <td>20</td>\n",
       "      <td>6</td>\n",
       "      <td>0</td>\n",
       "    </tr>\n",
       "    <tr>\n",
       "      <th>4</th>\n",
       "      <td>Abe</td>\n",
       "      <td>Hiroyuki</td>\n",
       "      <td>Abe Ani</td>\n",
       "      <td>5' 6\"</td>\n",
       "      <td>145</td>\n",
       "      <td>--</td>\n",
       "      <td>Orthodox</td>\n",
       "      <td>8</td>\n",
       "      <td>15</td>\n",
       "      <td>3</td>\n",
       "    </tr>\n",
       "  </tbody>\n",
       "</table>\n",
       "</div>"
      ],
      "text/plain": [
       "      last_name first_name     nick_name  height weight reach    stance wins  \\\n",
       "0         Aaron        Tom                    --    155    --              5   \n",
       "1        Abbadi      Danny  The Assassin  5' 11\"    155    --  Orthodox    4   \n",
       "2        Abbott      David          Tank   6' 0\"    265    --    Switch   10   \n",
       "3  Abdurakhimov     Shamil         Abrek   6' 3\"    235  76.0  Orthodox   20   \n",
       "4           Abe   Hiroyuki       Abe Ani   5' 6\"    145    --  Orthodox    8   \n",
       "\n",
       "  losses draws  \n",
       "0      3     0  \n",
       "1      6     0  \n",
       "2     15     0  \n",
       "3      6     0  \n",
       "4     15     3  "
      ]
     },
     "execution_count": 22,
     "metadata": {},
     "output_type": "execute_result"
    }
   ],
   "source": [
    "fighter_df.head()"
   ]
  },
  {
   "cell_type": "code",
   "execution_count": 23,
   "metadata": {},
   "outputs": [
    {
     "name": "stdout",
     "output_type": "stream",
     "text": [
      "<class 'pandas.core.frame.DataFrame'>\n",
      "RangeIndex: 3740 entries, 0 to 3739\n",
      "Data columns (total 10 columns):\n",
      " #   Column      Non-Null Count  Dtype \n",
      "---  ------      --------------  ----- \n",
      " 0   last_name   3740 non-null   object\n",
      " 1   first_name  3740 non-null   object\n",
      " 2   nick_name   3740 non-null   object\n",
      " 3   height      3740 non-null   object\n",
      " 4   weight      3740 non-null   object\n",
      " 5   reach       3740 non-null   object\n",
      " 6   stance      3740 non-null   object\n",
      " 7   wins        3740 non-null   object\n",
      " 8   losses      3740 non-null   object\n",
      " 9   draws       3740 non-null   object\n",
      "dtypes: object(10)\n",
      "memory usage: 292.3+ KB\n"
     ]
    }
   ],
   "source": [
    "fighter_df.info()"
   ]
  },
  {
   "cell_type": "code",
   "execution_count": 24,
   "metadata": {},
   "outputs": [
    {
     "data": {
      "text/plain": [
       "0       False\n",
       "1       False\n",
       "2       False\n",
       "3       False\n",
       "4       False\n",
       "        ...  \n",
       "3735    False\n",
       "3736    False\n",
       "3737    False\n",
       "3738    False\n",
       "3739    False\n",
       "Name: stance, Length: 3740, dtype: bool"
      ]
     },
     "execution_count": 24,
     "metadata": {},
     "output_type": "execute_result"
    }
   ],
   "source": [
    "pd.isnull(fighter_df[\"stance\"])"
   ]
  }
 ],
 "metadata": {
  "interpreter": {
   "hash": "aee8b7b246df8f9039afb4144a1f6fd8d2ca17a180786b69acc140d282b71a49"
  },
  "kernelspec": {
   "display_name": "Python 3.10.1 64-bit",
   "language": "python",
   "name": "python3"
  },
  "language_info": {
   "codemirror_mode": {
    "name": "ipython",
    "version": 3
   },
   "file_extension": ".py",
   "mimetype": "text/x-python",
   "name": "python",
   "nbconvert_exporter": "python",
   "pygments_lexer": "ipython3",
   "version": "3.10.1"
  },
  "orig_nbformat": 4
 },
 "nbformat": 4,
 "nbformat_minor": 2
}
